{
 "cells": [
  {
   "cell_type": "code",
   "execution_count": 1,
   "metadata": {},
   "outputs": [],
   "source": [
    "import pandas as pd\n",
    "import numpy as np"
   ]
  },
  {
   "cell_type": "code",
   "execution_count": 40,
   "metadata": {},
   "outputs": [],
   "source": [
    "store20 = pd.read_csv('./추가자료/추가자료/서울시 우리마을가게 상권분석서비스(상권-점포).csv',encoding = 'euc-kr')\n",
    "est_sales20 = pd.read_csv('./추가자료/추가자료/서울시 우리마을가게 상권분석서비스(상권-추정매출).csv', encoding = 'euc-kr')\n",
    "store19 = pd.read_csv('./추가자료/추가자료/서울시_우리마을가게_상권분석서비스(상권-점포)_2019년.csv', encoding = 'euc-kr')\n",
    "est_sales19 = pd.read_csv('./추가자료/추가자료/서울시 우리마을가게 상권분석서비스(상권-추정매출)_2019.csv', encoding = 'euc-kr')"
   ]
  },
  {
   "cell_type": "code",
   "execution_count": 41,
   "metadata": {},
   "outputs": [
    {
     "name": "stdout",
     "output_type": "stream",
     "text": [
      "(184555, 15)\n",
      "(66511, 80)\n",
      "(365030, 15)\n",
      "(177230, 80)\n"
     ]
    }
   ],
   "source": [
    "print(store20.shape)\n",
    "print(est_sales20.shape)\n",
    "print(store19.shape)\n",
    "print(est_sales19.shape)"
   ]
  },
  {
   "cell_type": "code",
   "execution_count": 44,
   "metadata": {
    "collapsed": true
   },
   "outputs": [
    {
     "name": "stdout",
     "output_type": "stream",
     "text": [
      "Index(['기준_년_코드', '기준_분기_코드', '상권_구분_코드', '상권_구분_코드_명', '상권_코드', '상권_코드_명',\n",
      "       '서비스_업종_코드', '서비스_업종_코드_명', '점포_수', '유사_업종_점포_수', '개업_율', '개업_점포_수',\n",
      "       '폐업_률', '폐업_점포_수', '프랜차이즈_점포_수'],\n",
      "      dtype='object')\n",
      "Index(['기준_년_코드', '기준_분기_코드', '상권_구분_코드', '상권_구분_코드_명', '상권_코드', '상권_코드_명',\n",
      "       '서비스_업종_코드', '서비스_업종_코드_명', '점포_수', '유사_업종_점포_수', '개업_율', '개업_점포_수',\n",
      "       '폐업_률', '폐업_점포_수', '프랜차이즈_점포_수'],\n",
      "      dtype='object')\n"
     ]
    }
   ],
   "source": [
    "print(store20.columns)\n",
    "print(store19.columns)"
   ]
  },
  {
   "cell_type": "code",
   "execution_count": 46,
   "metadata": {
    "collapsed": true
   },
   "outputs": [
    {
     "name": "stdout",
     "output_type": "stream",
     "text": [
      "Index(['기준_년_코드', '기준_분기_코드', '상권_구분_코드', '상권_구분_코드_명', '상권_코드', '상권_코드_명',\n",
      "       '서비스_업종_코드', '서비스_업종_코드_명', '당월_매출_금액', '당월_매출_건수', '주중_매출_비율',\n",
      "       '주말_매출_비율', '월요일_매출_비율', '화요일_매출_비율', '수요일_매출_비율', '목요일_매출_비율',\n",
      "       '금요일_매출_비율', '토요일_매출_비율', '일요일_매출_비율', '시간대_00~06_매출_비율',\n",
      "       '시간대_06~11_매출_비율', '시간대_11~14_매출_비율', '시간대_14~17_매출_비율',\n",
      "       '시간대_17~21_매출_비율', '시간대_21~24_매출_비율', '남성_매출_비율', '여성_매출_비율',\n",
      "       '연령대_10_매출_비율', '연령대_20_매출_비율', '연령대_30_매출_비율', '연령대_40_매출_비율',\n",
      "       '연령대_50_매출_비율', '연령대_60_이상_매출_비율', '주중_매출_금액', '주말_매출_금액', '월요일_매출_금액',\n",
      "       '화요일_매출_금액', '수요일_매출_금액', '목요일_매출_금액', '금요일_매출_금액', '토요일_매출_금액',\n",
      "       '일요일_매출_금액', '시간대_00~06_매출_금액', '시간대_06~11_매출_금액', '시간대_11~14_매출_금액',\n",
      "       '시간대_14~17_매출_금액', '시간대_17~21_매출_금액', '시간대_21~24_매출_금액', '남성_매출_금액',\n",
      "       '여성_매출_금액', '연령대_10_매출_금액', '연령대_20_매출_금액', '연령대_30_매출_금액',\n",
      "       '연령대_40_매출_금액', '연령대_50_매출_금액', '연령대_60_이상_매출_금액', '주중_매출_건수',\n",
      "       '주말_매출_건수', '월요일_매출_건수', '화요일_매출_건수', '수요일_매출_건수', '목요일_매출_건수',\n",
      "       '금요일_매출_건수', '토요일_매출_건수', '일요일_매출_건수', '시간대_건수~06_매출_건수',\n",
      "       '시간대_건수~11_매출_건수', '시간대_건수~14_매출_건수', '시간대_건수~17_매출_건수',\n",
      "       '시간대_건수~21_매출_건수', '시간대_건수~24_매출_건수', '남성_매출_건수', '여성_매출_건수',\n",
      "       '연령대_10_매출_건수', '연령대_20_매출_건수', '연령대_30_매출_건수', '연령대_40_매출_건수',\n",
      "       '연령대_50_매출_건수', '연령대_60_이상_매출_건수', '점포수'],\n",
      "      dtype='object')\n"
     ]
    }
   ],
   "source": [
    "print(est_sales20.columns)"
   ]
  },
  {
   "cell_type": "code",
   "execution_count": 54,
   "metadata": {
    "collapsed": true
   },
   "outputs": [
    {
     "name": "stdout",
     "output_type": "stream",
     "text": [
      "<class 'pandas.core.frame.DataFrame'>\n",
      "RangeIndex: 184555 entries, 0 to 184554\n",
      "Data columns (total 15 columns):\n",
      "기준_년_코드        184555 non-null int64\n",
      "기준_분기_코드       184555 non-null int64\n",
      "상권_구분_코드       184555 non-null object\n",
      "상권_구분_코드_명     184555 non-null object\n",
      "상권_코드          184555 non-null int64\n",
      "상권_코드_명        184555 non-null object\n",
      "서비스_업종_코드      184555 non-null object\n",
      "서비스_업종_코드_명    184555 non-null object\n",
      "점포_수           184555 non-null int64\n",
      "유사_업종_점포_수     184555 non-null int64\n",
      "개업_율           184555 non-null int64\n",
      "개업_점포_수        184555 non-null int64\n",
      "폐업_률           184555 non-null int64\n",
      "폐업_점포_수        184555 non-null int64\n",
      "프랜차이즈_점포_수     184555 non-null int64\n",
      "dtypes: int64(10), object(5)\n",
      "memory usage: 21.1+ MB\n",
      "<class 'pandas.core.frame.DataFrame'>\n",
      "RangeIndex: 66511 entries, 0 to 66510\n",
      "Data columns (total 80 columns):\n",
      "기준_년_코드            66511 non-null int64\n",
      "기준_분기_코드           66511 non-null int64\n",
      "상권_구분_코드           66511 non-null object\n",
      "상권_구분_코드_명         66511 non-null object\n",
      "상권_코드              66511 non-null int64\n",
      "상권_코드_명            66511 non-null object\n",
      "서비스_업종_코드          66511 non-null object\n",
      "서비스_업종_코드_명        66511 non-null object\n",
      "당월_매출_금액           66511 non-null int64\n",
      "당월_매출_건수           66511 non-null int64\n",
      "주중_매출_비율           66511 non-null int64\n",
      "주말_매출_비율           66511 non-null int64\n",
      "월요일_매출_비율          66511 non-null int64\n",
      "화요일_매출_비율          66511 non-null int64\n",
      "수요일_매출_비율          66511 non-null int64\n",
      "목요일_매출_비율          66511 non-null int64\n",
      "금요일_매출_비율          66511 non-null int64\n",
      "토요일_매출_비율          66511 non-null int64\n",
      "일요일_매출_비율          66511 non-null int64\n",
      "시간대_00~06_매출_비율    66511 non-null int64\n",
      "시간대_06~11_매출_비율    66511 non-null int64\n",
      "시간대_11~14_매출_비율    66511 non-null int64\n",
      "시간대_14~17_매출_비율    66511 non-null int64\n",
      "시간대_17~21_매출_비율    66511 non-null int64\n",
      "시간대_21~24_매출_비율    66511 non-null int64\n",
      "남성_매출_비율           66511 non-null int64\n",
      "여성_매출_비율           66511 non-null int64\n",
      "연령대_10_매출_비율       66511 non-null int64\n",
      "연령대_20_매출_비율       66511 non-null int64\n",
      "연령대_30_매출_비율       66511 non-null int64\n",
      "연령대_40_매출_비율       66511 non-null int64\n",
      "연령대_50_매출_비율       66511 non-null int64\n",
      "연령대_60_이상_매출_비율    66511 non-null int64\n",
      "주중_매출_금액           66511 non-null int64\n",
      "주말_매출_금액           66511 non-null int64\n",
      "월요일_매출_금액          66511 non-null int64\n",
      "화요일_매출_금액          66511 non-null int64\n",
      "수요일_매출_금액          66511 non-null int64\n",
      "목요일_매출_금액          66511 non-null int64\n",
      "금요일_매출_금액          66511 non-null int64\n",
      "토요일_매출_금액          66511 non-null int64\n",
      "일요일_매출_금액          66511 non-null int64\n",
      "시간대_00~06_매출_금액    66511 non-null int64\n",
      "시간대_06~11_매출_금액    66511 non-null int64\n",
      "시간대_11~14_매출_금액    66511 non-null int64\n",
      "시간대_14~17_매출_금액    66511 non-null int64\n",
      "시간대_17~21_매출_금액    66511 non-null int64\n",
      "시간대_21~24_매출_금액    66511 non-null int64\n",
      "남성_매출_금액           66511 non-null int64\n",
      "여성_매출_금액           66511 non-null int64\n",
      "연령대_10_매출_금액       66511 non-null int64\n",
      "연령대_20_매출_금액       66511 non-null int64\n",
      "연령대_30_매출_금액       66511 non-null int64\n",
      "연령대_40_매출_금액       66511 non-null int64\n",
      "연령대_50_매출_금액       66511 non-null int64\n",
      "연령대_60_이상_매출_금액    66511 non-null int64\n",
      "주중_매출_건수           66511 non-null int64\n",
      "주말_매출_건수           66511 non-null int64\n",
      "월요일_매출_건수          66511 non-null int64\n",
      "화요일_매출_건수          66511 non-null int64\n",
      "수요일_매출_건수          66511 non-null int64\n",
      "목요일_매출_건수          66511 non-null int64\n",
      "금요일_매출_건수          66511 non-null int64\n",
      "토요일_매출_건수          66511 non-null int64\n",
      "일요일_매출_건수          66511 non-null int64\n",
      "시간대_건수~06_매출_건수    66511 non-null int64\n",
      "시간대_건수~11_매출_건수    66511 non-null int64\n",
      "시간대_건수~14_매출_건수    66511 non-null int64\n",
      "시간대_건수~17_매출_건수    66511 non-null int64\n",
      "시간대_건수~21_매출_건수    66511 non-null int64\n",
      "시간대_건수~24_매출_건수    66511 non-null int64\n",
      "남성_매출_건수           66511 non-null int64\n",
      "여성_매출_건수           66511 non-null int64\n",
      "연령대_10_매출_건수       66511 non-null int64\n",
      "연령대_20_매출_건수       66511 non-null int64\n",
      "연령대_30_매출_건수       66511 non-null int64\n",
      "연령대_40_매출_건수       66511 non-null int64\n",
      "연령대_50_매출_건수       66511 non-null int64\n",
      "연령대_60_이상_매출_건수    66511 non-null int64\n",
      "점포수                66511 non-null int64\n",
      "dtypes: int64(75), object(5)\n",
      "memory usage: 40.6+ MB\n"
     ]
    }
   ],
   "source": [
    "store20.info()\n",
    "est_sales20.info()"
   ]
  },
  {
   "cell_type": "code",
   "execution_count": 51,
   "metadata": {},
   "outputs": [],
   "source": [
    "df20 = pd.merge(store20, est_sales20, how='outer', on= ['기준_년_코드', '기준_분기_코드', '상권_구분_코드', '상권_구분_코드_명', '상권_코드', '상권_코드_명',\n",
    "       '서비스_업종_코드', '서비스_업종_코드_명'])"
   ]
  },
  {
   "cell_type": "code",
   "execution_count": 83,
   "metadata": {
    "scrolled": true
   },
   "outputs": [
    {
     "name": "stdout",
     "output_type": "stream",
     "text": [
      "<class 'pandas.core.frame.DataFrame'>\n",
      "Int64Index: 184689 entries, 0 to 184688\n",
      "Data columns (total 87 columns):\n",
      "기준_년_코드            184689 non-null int64\n",
      "기준_분기_코드           184689 non-null int64\n",
      "상권_구분_코드           184689 non-null object\n",
      "상권_구분_코드_명         184689 non-null object\n",
      "상권_코드              184689 non-null int64\n",
      "상권_코드_명            184689 non-null object\n",
      "서비스_업종_코드          184689 non-null object\n",
      "서비스_업종_코드_명        184689 non-null object\n",
      "점포_수               184555 non-null float64\n",
      "유사_업종_점포_수         184555 non-null float64\n",
      "개업_율               184555 non-null float64\n",
      "개업_점포_수            184555 non-null float64\n",
      "폐업_률               184555 non-null float64\n",
      "폐업_점포_수            184555 non-null float64\n",
      "프랜차이즈_점포_수         184555 non-null float64\n",
      "당월_매출_금액           66511 non-null float64\n",
      "당월_매출_건수           66511 non-null float64\n",
      "주중_매출_비율           66511 non-null float64\n",
      "주말_매출_비율           66511 non-null float64\n",
      "월요일_매출_비율          66511 non-null float64\n",
      "화요일_매출_비율          66511 non-null float64\n",
      "수요일_매출_비율          66511 non-null float64\n",
      "목요일_매출_비율          66511 non-null float64\n",
      "금요일_매출_비율          66511 non-null float64\n",
      "토요일_매출_비율          66511 non-null float64\n",
      "일요일_매출_비율          66511 non-null float64\n",
      "시간대_00~06_매출_비율    66511 non-null float64\n",
      "시간대_06~11_매출_비율    66511 non-null float64\n",
      "시간대_11~14_매출_비율    66511 non-null float64\n",
      "시간대_14~17_매출_비율    66511 non-null float64\n",
      "시간대_17~21_매출_비율    66511 non-null float64\n",
      "시간대_21~24_매출_비율    66511 non-null float64\n",
      "남성_매출_비율           66511 non-null float64\n",
      "여성_매출_비율           66511 non-null float64\n",
      "연령대_10_매출_비율       66511 non-null float64\n",
      "연령대_20_매출_비율       66511 non-null float64\n",
      "연령대_30_매출_비율       66511 non-null float64\n",
      "연령대_40_매출_비율       66511 non-null float64\n",
      "연령대_50_매출_비율       66511 non-null float64\n",
      "연령대_60_이상_매출_비율    66511 non-null float64\n",
      "주중_매출_금액           66511 non-null float64\n",
      "주말_매출_금액           66511 non-null float64\n",
      "월요일_매출_금액          66511 non-null float64\n",
      "화요일_매출_금액          66511 non-null float64\n",
      "수요일_매출_금액          66511 non-null float64\n",
      "목요일_매출_금액          66511 non-null float64\n",
      "금요일_매출_금액          66511 non-null float64\n",
      "토요일_매출_금액          66511 non-null float64\n",
      "일요일_매출_금액          66511 non-null float64\n",
      "시간대_00~06_매출_금액    66511 non-null float64\n",
      "시간대_06~11_매출_금액    66511 non-null float64\n",
      "시간대_11~14_매출_금액    66511 non-null float64\n",
      "시간대_14~17_매출_금액    66511 non-null float64\n",
      "시간대_17~21_매출_금액    66511 non-null float64\n",
      "시간대_21~24_매출_금액    66511 non-null float64\n",
      "남성_매출_금액           66511 non-null float64\n",
      "여성_매출_금액           66511 non-null float64\n",
      "연령대_10_매출_금액       66511 non-null float64\n",
      "연령대_20_매출_금액       66511 non-null float64\n",
      "연령대_30_매출_금액       66511 non-null float64\n",
      "연령대_40_매출_금액       66511 non-null float64\n",
      "연령대_50_매출_금액       66511 non-null float64\n",
      "연령대_60_이상_매출_금액    66511 non-null float64\n",
      "주중_매출_건수           66511 non-null float64\n",
      "주말_매출_건수           66511 non-null float64\n",
      "월요일_매출_건수          66511 non-null float64\n",
      "화요일_매출_건수          66511 non-null float64\n",
      "수요일_매출_건수          66511 non-null float64\n",
      "목요일_매출_건수          66511 non-null float64\n",
      "금요일_매출_건수          66511 non-null float64\n",
      "토요일_매출_건수          66511 non-null float64\n",
      "일요일_매출_건수          66511 non-null float64\n",
      "시간대_건수~06_매출_건수    66511 non-null float64\n",
      "시간대_건수~11_매출_건수    66511 non-null float64\n",
      "시간대_건수~14_매출_건수    66511 non-null float64\n",
      "시간대_건수~17_매출_건수    66511 non-null float64\n",
      "시간대_건수~21_매출_건수    66511 non-null float64\n",
      "시간대_건수~24_매출_건수    66511 non-null float64\n",
      "남성_매출_건수           66511 non-null float64\n",
      "여성_매출_건수           66511 non-null float64\n",
      "연령대_10_매출_건수       66511 non-null float64\n",
      "연령대_20_매출_건수       66511 non-null float64\n",
      "연령대_30_매출_건수       66511 non-null float64\n",
      "연령대_40_매출_건수       66511 non-null float64\n",
      "연령대_50_매출_건수       66511 non-null float64\n",
      "연령대_60_이상_매출_건수    66511 non-null float64\n",
      "점포수                66511 non-null float64\n",
      "dtypes: float64(79), int64(3), object(5)\n",
      "memory usage: 124.0+ MB\n"
     ]
    }
   ],
   "source": [
    "df20.info()"
   ]
  },
  {
   "cell_type": "code",
   "execution_count": 110,
   "metadata": {},
   "outputs": [
    {
     "data": {
      "text/plain": [
       "Index(['기준_년_코드', '기준_분기_코드', '상권_구분_코드', '상권_구분_코드_명', '상권_코드', '상권_코드_명',\n",
       "       '서비스_업종_코드', '서비스_업종_코드_명', '점포_수', '유사_업종_점포_수', '개업_율', '개업_점포_수',\n",
       "       '폐업_률', '폐업_점포_수', '프랜차이즈_점포_수', '당월_매출_금액', '당월_매출_건수', '주중_매출_비율',\n",
       "       '주말_매출_비율', '월요일_매출_비율', '화요일_매출_비율', '수요일_매출_비율', '목요일_매출_비율',\n",
       "       '금요일_매출_비율', '토요일_매출_비율', '일요일_매출_비율', '시간대_00~06_매출_비율',\n",
       "       '시간대_06~11_매출_비율', '시간대_11~14_매출_비율', '시간대_14~17_매출_비율',\n",
       "       '시간대_17~21_매출_비율', '시간대_21~24_매출_비율', '남성_매출_비율', '여성_매출_비율',\n",
       "       '연령대_10_매출_비율', '연령대_20_매출_비율', '연령대_30_매출_비율', '연령대_40_매출_비율',\n",
       "       '연령대_50_매출_비율', '연령대_60_이상_매출_비율', '주중_매출_금액', '주말_매출_금액', '월요일_매출_금액',\n",
       "       '화요일_매출_금액', '수요일_매출_금액', '목요일_매출_금액', '금요일_매출_금액', '토요일_매출_금액',\n",
       "       '일요일_매출_금액', '시간대_00~06_매출_금액', '시간대_06~11_매출_금액', '시간대_11~14_매출_금액',\n",
       "       '시간대_14~17_매출_금액', '시간대_17~21_매출_금액', '시간대_21~24_매출_금액', '남성_매출_금액',\n",
       "       '여성_매출_금액', '연령대_10_매출_금액', '연령대_20_매출_금액', '연령대_30_매출_금액',\n",
       "       '연령대_40_매출_금액', '연령대_50_매출_금액', '연령대_60_이상_매출_금액', '주중_매출_건수',\n",
       "       '주말_매출_건수', '월요일_매출_건수', '화요일_매출_건수', '수요일_매출_건수', '목요일_매출_건수',\n",
       "       '금요일_매출_건수', '토요일_매출_건수', '일요일_매출_건수', '시간대_건수~06_매출_건수',\n",
       "       '시간대_건수~11_매출_건수', '시간대_건수~14_매출_건수', '시간대_건수~17_매출_건수',\n",
       "       '시간대_건수~21_매출_건수', '시간대_건수~24_매출_건수', '남성_매출_건수', '여성_매출_건수',\n",
       "       '연령대_10_매출_건수', '연령대_20_매출_건수', '연령대_30_매출_건수', '연령대_40_매출_건수',\n",
       "       '연령대_50_매출_건수', '연령대_60_이상_매출_건수', '점포수'],\n",
       "      dtype='object')"
      ]
     },
     "execution_count": 110,
     "metadata": {},
     "output_type": "execute_result"
    }
   ],
   "source": [
    "df20.columns"
   ]
  },
  {
   "cell_type": "code",
   "execution_count": 99,
   "metadata": {},
   "outputs": [
    {
     "name": "stdout",
     "output_type": "stream",
     "text": [
      "(66377, 87)\n",
      "(184689, 87)\n"
     ]
    }
   ],
   "source": [
    "df2020 = df20.dropna(axis=0)\n",
    "print(df2020.shape)\n",
    "print(df20.shape)"
   ]
  },
  {
   "cell_type": "code",
   "execution_count": 127,
   "metadata": {},
   "outputs": [],
   "source": [
    "df20.loc[df20['상권_코드_명']=='서울 성북구 미아삼거리역_2','상권_코드_명'] = '서울 강북구 미아삼거리역_2'"
   ]
  },
  {
   "cell_type": "code",
   "execution_count": 130,
   "metadata": {},
   "outputs": [
    {
     "data": {
      "text/html": [
       "<div>\n",
       "<style scoped>\n",
       "    .dataframe tbody tr th:only-of-type {\n",
       "        vertical-align: middle;\n",
       "    }\n",
       "\n",
       "    .dataframe tbody tr th {\n",
       "        vertical-align: top;\n",
       "    }\n",
       "\n",
       "    .dataframe thead th {\n",
       "        text-align: right;\n",
       "    }\n",
       "</style>\n",
       "<table border=\"1\" class=\"dataframe\">\n",
       "  <thead>\n",
       "    <tr style=\"text-align: right;\">\n",
       "      <th></th>\n",
       "      <th>기준_년월_코드</th>\n",
       "      <th>상권_구분_코드</th>\n",
       "      <th>상권_구분_코드_명</th>\n",
       "      <th>상권_코드</th>\n",
       "      <th>상권_코드_명</th>\n",
       "      <th>엑스좌표_값</th>\n",
       "      <th>와이좌표_값</th>\n",
       "      <th>시군구_코드</th>\n",
       "      <th>행정동_코드</th>\n",
       "      <th>형태정보</th>\n",
       "    </tr>\n",
       "  </thead>\n",
       "  <tbody>\n",
       "    <tr>\n",
       "      <th>0</th>\n",
       "      <td>201810</td>\n",
       "      <td>R</td>\n",
       "      <td>전통시장</td>\n",
       "      <td>1001475</td>\n",
       "      <td>강남개포시장</td>\n",
       "      <td>206065</td>\n",
       "      <td>443310</td>\n",
       "      <td>11680</td>\n",
       "      <td>11680670</td>\n",
       "      <td>NaN</td>\n",
       "    </tr>\n",
       "    <tr>\n",
       "      <th>1</th>\n",
       "      <td>201810</td>\n",
       "      <td>R</td>\n",
       "      <td>전통시장</td>\n",
       "      <td>1001412</td>\n",
       "      <td>화곡본동시장</td>\n",
       "      <td>186203</td>\n",
       "      <td>449328</td>\n",
       "      <td>11500</td>\n",
       "      <td>11500590</td>\n",
       "      <td>NaN</td>\n",
       "    </tr>\n",
       "    <tr>\n",
       "      <th>2</th>\n",
       "      <td>201810</td>\n",
       "      <td>R</td>\n",
       "      <td>전통시장</td>\n",
       "      <td>1001413</td>\n",
       "      <td>까치산시장</td>\n",
       "      <td>186493</td>\n",
       "      <td>448134</td>\n",
       "      <td>11500</td>\n",
       "      <td>11500593</td>\n",
       "      <td>NaN</td>\n",
       "    </tr>\n",
       "    <tr>\n",
       "      <th>3</th>\n",
       "      <td>201810</td>\n",
       "      <td>R</td>\n",
       "      <td>전통시장</td>\n",
       "      <td>1001414</td>\n",
       "      <td>송화골목시장</td>\n",
       "      <td>185468</td>\n",
       "      <td>449994</td>\n",
       "      <td>11500</td>\n",
       "      <td>11500611</td>\n",
       "      <td>NaN</td>\n",
       "    </tr>\n",
       "    <tr>\n",
       "      <th>4</th>\n",
       "      <td>201810</td>\n",
       "      <td>R</td>\n",
       "      <td>전통시장</td>\n",
       "      <td>1001452</td>\n",
       "      <td>중부시장</td>\n",
       "      <td>196125</td>\n",
       "      <td>442779</td>\n",
       "      <td>11620</td>\n",
       "      <td>11620575</td>\n",
       "      <td>NaN</td>\n",
       "    </tr>\n",
       "  </tbody>\n",
       "</table>\n",
       "</div>"
      ],
      "text/plain": [
       "   기준_년월_코드 상권_구분_코드 상권_구분_코드_명    상권_코드 상권_코드_명  엑스좌표_값  와이좌표_값  시군구_코드  \\\n",
       "0    201810        R       전통시장  1001475  강남개포시장  206065  443310   11680   \n",
       "1    201810        R       전통시장  1001412  화곡본동시장  186203  449328   11500   \n",
       "2    201810        R       전통시장  1001413   까치산시장  186493  448134   11500   \n",
       "3    201810        R       전통시장  1001414  송화골목시장  185468  449994   11500   \n",
       "4    201810        R       전통시장  1001452    중부시장  196125  442779   11620   \n",
       "\n",
       "     행정동_코드  형태정보  \n",
       "0  11680670   NaN  \n",
       "1  11500590   NaN  \n",
       "2  11500593   NaN  \n",
       "3  11500611   NaN  \n",
       "4  11620575   NaN  "
      ]
     },
     "execution_count": 130,
     "metadata": {},
     "output_type": "execute_result"
    }
   ],
   "source": [
    "area = pd.read_csv('./추가자료/추가자료/서울시 우리마을가게 상권분석서비스(상권영역).csv',encoding = 'euc-kr')\n",
    "area.head()"
   ]
  },
  {
   "cell_type": "code",
   "execution_count": 131,
   "metadata": {},
   "outputs": [
    {
     "data": {
      "text/html": [
       "<div>\n",
       "<style scoped>\n",
       "    .dataframe tbody tr th:only-of-type {\n",
       "        vertical-align: middle;\n",
       "    }\n",
       "\n",
       "    .dataframe tbody tr th {\n",
       "        vertical-align: top;\n",
       "    }\n",
       "\n",
       "    .dataframe thead th {\n",
       "        text-align: right;\n",
       "    }\n",
       "</style>\n",
       "<table border=\"1\" class=\"dataframe\">\n",
       "  <thead>\n",
       "    <tr style=\"text-align: right;\">\n",
       "      <th></th>\n",
       "      <th>상권_구분_코드</th>\n",
       "      <th>상권_구분_코드_명</th>\n",
       "      <th>상권_코드</th>\n",
       "      <th>상권_코드_명</th>\n",
       "      <th>행정동_코드</th>\n",
       "    </tr>\n",
       "  </thead>\n",
       "  <tbody>\n",
       "    <tr>\n",
       "      <th>0</th>\n",
       "      <td>R</td>\n",
       "      <td>전통시장</td>\n",
       "      <td>1001475</td>\n",
       "      <td>강남개포시장</td>\n",
       "      <td>11680670</td>\n",
       "    </tr>\n",
       "    <tr>\n",
       "      <th>1</th>\n",
       "      <td>R</td>\n",
       "      <td>전통시장</td>\n",
       "      <td>1001412</td>\n",
       "      <td>화곡본동시장</td>\n",
       "      <td>11500590</td>\n",
       "    </tr>\n",
       "    <tr>\n",
       "      <th>2</th>\n",
       "      <td>R</td>\n",
       "      <td>전통시장</td>\n",
       "      <td>1001413</td>\n",
       "      <td>까치산시장</td>\n",
       "      <td>11500593</td>\n",
       "    </tr>\n",
       "    <tr>\n",
       "      <th>3</th>\n",
       "      <td>R</td>\n",
       "      <td>전통시장</td>\n",
       "      <td>1001414</td>\n",
       "      <td>송화골목시장</td>\n",
       "      <td>11500611</td>\n",
       "    </tr>\n",
       "    <tr>\n",
       "      <th>4</th>\n",
       "      <td>R</td>\n",
       "      <td>전통시장</td>\n",
       "      <td>1001452</td>\n",
       "      <td>중부시장</td>\n",
       "      <td>11620575</td>\n",
       "    </tr>\n",
       "  </tbody>\n",
       "</table>\n",
       "</div>"
      ],
      "text/plain": [
       "  상권_구분_코드 상권_구분_코드_명    상권_코드 상권_코드_명    행정동_코드\n",
       "0        R       전통시장  1001475  강남개포시장  11680670\n",
       "1        R       전통시장  1001412  화곡본동시장  11500590\n",
       "2        R       전통시장  1001413   까치산시장  11500593\n",
       "3        R       전통시장  1001414  송화골목시장  11500611\n",
       "4        R       전통시장  1001452    중부시장  11620575"
      ]
     },
     "execution_count": 131,
     "metadata": {},
     "output_type": "execute_result"
    }
   ],
   "source": [
    "area = area[['상권_구분_코드','상권_구분_코드_명','상권_코드','상권_코드_명','행정동_코드']]\n",
    "area.head()"
   ]
  },
  {
   "cell_type": "code",
   "execution_count": 137,
   "metadata": {},
   "outputs": [
    {
     "data": {
      "text/plain": [
       "(184689, 88)"
      ]
     },
     "execution_count": 137,
     "metadata": {},
     "output_type": "execute_result"
    }
   ],
   "source": [
    "df_final20 = pd.merge(df20,area,how='outer',on=['상권_구분_코드','상권_구분_코드_명','상권_코드','상권_코드_명'])\n",
    "df_final20.shape"
   ]
  },
  {
   "cell_type": "code",
   "execution_count": 138,
   "metadata": {},
   "outputs": [
    {
     "name": "stdout",
     "output_type": "stream",
     "text": [
      "<class 'pandas.core.frame.DataFrame'>\n",
      "Int64Index: 184689 entries, 0 to 184688\n",
      "Data columns (total 88 columns):\n",
      "기준_년_코드            184689 non-null int64\n",
      "기준_분기_코드           184689 non-null int64\n",
      "상권_구분_코드           184689 non-null object\n",
      "상권_구분_코드_명         184689 non-null object\n",
      "상권_코드              184689 non-null int64\n",
      "상권_코드_명            184689 non-null object\n",
      "서비스_업종_코드          184689 non-null object\n",
      "서비스_업종_코드_명        184689 non-null object\n",
      "점포_수               184555 non-null float64\n",
      "유사_업종_점포_수         184555 non-null float64\n",
      "개업_율               184555 non-null float64\n",
      "개업_점포_수            184555 non-null float64\n",
      "폐업_률               184555 non-null float64\n",
      "폐업_점포_수            184555 non-null float64\n",
      "프랜차이즈_점포_수         184555 non-null float64\n",
      "당월_매출_금액           66511 non-null float64\n",
      "당월_매출_건수           66511 non-null float64\n",
      "주중_매출_비율           66511 non-null float64\n",
      "주말_매출_비율           66511 non-null float64\n",
      "월요일_매출_비율          66511 non-null float64\n",
      "화요일_매출_비율          66511 non-null float64\n",
      "수요일_매출_비율          66511 non-null float64\n",
      "목요일_매출_비율          66511 non-null float64\n",
      "금요일_매출_비율          66511 non-null float64\n",
      "토요일_매출_비율          66511 non-null float64\n",
      "일요일_매출_비율          66511 non-null float64\n",
      "시간대_00~06_매출_비율    66511 non-null float64\n",
      "시간대_06~11_매출_비율    66511 non-null float64\n",
      "시간대_11~14_매출_비율    66511 non-null float64\n",
      "시간대_14~17_매출_비율    66511 non-null float64\n",
      "시간대_17~21_매출_비율    66511 non-null float64\n",
      "시간대_21~24_매출_비율    66511 non-null float64\n",
      "남성_매출_비율           66511 non-null float64\n",
      "여성_매출_비율           66511 non-null float64\n",
      "연령대_10_매출_비율       66511 non-null float64\n",
      "연령대_20_매출_비율       66511 non-null float64\n",
      "연령대_30_매출_비율       66511 non-null float64\n",
      "연령대_40_매출_비율       66511 non-null float64\n",
      "연령대_50_매출_비율       66511 non-null float64\n",
      "연령대_60_이상_매출_비율    66511 non-null float64\n",
      "주중_매출_금액           66511 non-null float64\n",
      "주말_매출_금액           66511 non-null float64\n",
      "월요일_매출_금액          66511 non-null float64\n",
      "화요일_매출_금액          66511 non-null float64\n",
      "수요일_매출_금액          66511 non-null float64\n",
      "목요일_매출_금액          66511 non-null float64\n",
      "금요일_매출_금액          66511 non-null float64\n",
      "토요일_매출_금액          66511 non-null float64\n",
      "일요일_매출_금액          66511 non-null float64\n",
      "시간대_00~06_매출_금액    66511 non-null float64\n",
      "시간대_06~11_매출_금액    66511 non-null float64\n",
      "시간대_11~14_매출_금액    66511 non-null float64\n",
      "시간대_14~17_매출_금액    66511 non-null float64\n",
      "시간대_17~21_매출_금액    66511 non-null float64\n",
      "시간대_21~24_매출_금액    66511 non-null float64\n",
      "남성_매출_금액           66511 non-null float64\n",
      "여성_매출_금액           66511 non-null float64\n",
      "연령대_10_매출_금액       66511 non-null float64\n",
      "연령대_20_매출_금액       66511 non-null float64\n",
      "연령대_30_매출_금액       66511 non-null float64\n",
      "연령대_40_매출_금액       66511 non-null float64\n",
      "연령대_50_매출_금액       66511 non-null float64\n",
      "연령대_60_이상_매출_금액    66511 non-null float64\n",
      "주중_매출_건수           66511 non-null float64\n",
      "주말_매출_건수           66511 non-null float64\n",
      "월요일_매출_건수          66511 non-null float64\n",
      "화요일_매출_건수          66511 non-null float64\n",
      "수요일_매출_건수          66511 non-null float64\n",
      "목요일_매출_건수          66511 non-null float64\n",
      "금요일_매출_건수          66511 non-null float64\n",
      "토요일_매출_건수          66511 non-null float64\n",
      "일요일_매출_건수          66511 non-null float64\n",
      "시간대_건수~06_매출_건수    66511 non-null float64\n",
      "시간대_건수~11_매출_건수    66511 non-null float64\n",
      "시간대_건수~14_매출_건수    66511 non-null float64\n",
      "시간대_건수~17_매출_건수    66511 non-null float64\n",
      "시간대_건수~21_매출_건수    66511 non-null float64\n",
      "시간대_건수~24_매출_건수    66511 non-null float64\n",
      "남성_매출_건수           66511 non-null float64\n",
      "여성_매출_건수           66511 non-null float64\n",
      "연령대_10_매출_건수       66511 non-null float64\n",
      "연령대_20_매출_건수       66511 non-null float64\n",
      "연령대_30_매출_건수       66511 non-null float64\n",
      "연령대_40_매출_건수       66511 non-null float64\n",
      "연령대_50_매출_건수       66511 non-null float64\n",
      "연령대_60_이상_매출_건수    66511 non-null float64\n",
      "점포수                66511 non-null float64\n",
      "행정동_코드             184689 non-null int64\n",
      "dtypes: float64(79), int64(4), object(5)\n",
      "memory usage: 125.4+ MB\n"
     ]
    }
   ],
   "source": [
    "df_final20.info()"
   ]
  },
  {
   "cell_type": "code",
   "execution_count": null,
   "metadata": {},
   "outputs": [],
   "source": []
  },
  {
   "cell_type": "code",
   "execution_count": 107,
   "metadata": {},
   "outputs": [],
   "source": [
    "df19 = pd.merge(store19, est_sales19, how='outer', on= ['기준_년_코드', '기준_분기_코드', '상권_구분_코드', '상권_구분_코드_명', '상권_코드', '상권_코드_명',\n",
    "       '서비스_업종_코드', '서비스_업종_코드_명'])"
   ]
  },
  {
   "cell_type": "code",
   "execution_count": 108,
   "metadata": {},
   "outputs": [
    {
     "data": {
      "text/plain": [
       "(385729, 87)"
      ]
     },
     "execution_count": 108,
     "metadata": {},
     "output_type": "execute_result"
    }
   ],
   "source": [
    "df19.shape"
   ]
  },
  {
   "cell_type": "code",
   "execution_count": 136,
   "metadata": {},
   "outputs": [],
   "source": [
    "df19.loc[df19['상권_코드_명']=='서울 성북구 미아삼거리역_2','상권_코드_명'] = '서울 강북구 미아삼거리역_2'"
   ]
  },
  {
   "cell_type": "code",
   "execution_count": 142,
   "metadata": {},
   "outputs": [],
   "source": [
    "df19.loc[df19['상권_코드_명']=='종로·청계 관광특구','상권_코드_명'] = '종로?청계 관광특구'"
   ]
  },
  {
   "cell_type": "code",
   "execution_count": 143,
   "metadata": {},
   "outputs": [
    {
     "data": {
      "text/plain": [
       "(385729, 88)"
      ]
     },
     "execution_count": 143,
     "metadata": {},
     "output_type": "execute_result"
    }
   ],
   "source": [
    "df_final19 = pd.merge(df19,area,how='outer',on=['상권_구분_코드','상권_구분_코드_명','상권_코드','상권_코드_명'])\n",
    "df_final19.shape"
   ]
  },
  {
   "cell_type": "code",
   "execution_count": 162,
   "metadata": {},
   "outputs": [],
   "source": [
    "new_cols= ['year', 'quarter', 'CD_Class_code', 'CD_Class_code_name', 'CD_code', 'CD_code_name',\n",
    "'Serv_code', 'Serv_code_name', 'store_num1', 'Similar_Store_num', 'Open_ratio', 'Open_num',\n",
    "'Close_ratio', 'Close_num', 'FC_num', 'Month_sales', 'Month_sales_cnt', 'Wday_sales_ratio',\n",
    "'WK_sales_ratio', 'Mon_sales_ratio', 'Tue_sales_ratio', 'Wed_sales_ratio', 'Thu_sales_ratio',\n",
    "'Fri_sales_ratio', 'Sat_sales_ratio', 'Sun_sales_ratio', '00_06_sales_ratio', \n",
    "'06_11_sales_ratio', '11_14_sales_ratio', '14_17_sales_ratio', \n",
    "'17_21_sales_ratio', '21_24_sales_ratio', 'Man_sales_ratio', 'Wm_sales_ratio',\n",
    "'10age_sales_ratio', '20age_sales_ratio', '30age_sales_ratio', '40age_sales_ratio',\n",
    "'50age_sales_ratio', '60ages_sales_ratio', 'Wday_sales', 'WK_sales', 'Mon_sales',\n",
    "'Tue_sales', 'Wed_sales', 'Thu_sales', 'Fri_sales', 'Sat_sales',\n",
    "'Sun_sales', '00_06_sales', '06_11_sales', '11_14_sales', \n",
    "'14_17_sales', '17_21_sales', '21_24_sales', 'Man_sales', \n",
    "'Wm_sales', '10age_sales', '20age_sales', '30age_sales', \n",
    "'40age_sales', '50age_sales', '60ages_sales', 'Wday_sales_cnt',\n",
    "'WK_sales_cnt', 'Mon_sales_cnt', 'Tue_sales_cnt', 'Wed_sales_cnt', 'Thu_sales_cnt',\n",
    "'Fri_sales_cnt', 'Sat_sales_cnt', 'Sun_sales_cnt', '00_06_sales_cnt', \n",
    "'06_11_sales_cnt', '11_14_sales_cnt', '14_17_sales_cnt', \n",
    "'17_21_sales_cnt', '21_24_sales_cnt', 'Man_sales_cnt', 'Wm_sales_cnt',\n",
    "'10age_sales_cnt', '20age_sales_cnt', '30age_sales_cnt', '40age_sales_cnt',\n",
    "'50age_sales_cnt', '60ages_sales_cnt', 'store_num2','address_cd']"
   ]
  },
  {
   "cell_type": "code",
   "execution_count": 153,
   "metadata": {},
   "outputs": [],
   "source": [
    "col = ['기준_년_코드', '기준_분기_코드', '상권_구분_코드', '상권_구분_코드_명', '상권_코드', '상권_코드_명',\n",
    "       '서비스_업종_코드', '서비스_업종_코드_명', '점포_수', '유사_업종_점포_수', '개업_율', '개업_점포_수',\n",
    "       '폐업_률', '폐업_점포_수', '프랜차이즈_점포_수', '당월_매출_금액', '당월_매출_건수', '주중_매출_비율',\n",
    "       '주말_매출_비율', '월요일_매출_비율', '화요일_매출_비율', '수요일_매출_비율', '목요일_매출_비율',\n",
    "       '금요일_매출_비율', '토요일_매출_비율', '일요일_매출_비율', '시간대_00~06_매출_비율',\n",
    "       '시간대_06~11_매출_비율', '시간대_11~14_매출_비율', '시간대_14~17_매출_비율',\n",
    "       '시간대_17~21_매출_비율', '시간대_21~24_매출_비율', '남성_매출_비율', '여성_매출_비율',\n",
    "       '연령대_10_매출_비율', '연령대_20_매출_비율', '연령대_30_매출_비율', '연령대_40_매출_비율',\n",
    "       '연령대_50_매출_비율', '연령대_60_이상_매출_비율', '주중_매출_금액', '주말_매출_금액', '월요일_매출_금액',\n",
    "       '화요일_매출_금액', '수요일_매출_금액', '목요일_매출_금액', '금요일_매출_금액', '토요일_매출_금액',\n",
    "       '일요일_매출_금액', '시간대_00~06_매출_금액', '시간대_06~11_매출_금액', '시간대_11~14_매출_금액',\n",
    "       '시간대_14~17_매출_금액', '시간대_17~21_매출_금액', '시간대_21~24_매출_금액', '남성_매출_금액',\n",
    "       '여성_매출_금액', '연령대_10_매출_금액', '연령대_20_매출_금액', '연령대_30_매출_금액',\n",
    "       '연령대_40_매출_금액', '연령대_50_매출_금액', '연령대_60_이상_매출_금액', '주중_매출_건수',\n",
    "       '주말_매출_건수', '월요일_매출_건수', '화요일_매출_건수', '수요일_매출_건수', '목요일_매출_건수',\n",
    "       '금요일_매출_건수', '토요일_매출_건수', '일요일_매출_건수', '시간대_건수~06_매출_건수',\n",
    "       '시간대_건수~11_매출_건수', '시간대_건수~14_매출_건수', '시간대_건수~17_매출_건수',\n",
    "       '시간대_건수~21_매출_건수', '시간대_건수~24_매출_건수', '남성_매출_건수', '여성_매출_건수',\n",
    "       '연령대_10_매출_건수', '연령대_20_매출_건수', '연령대_30_매출_건수', '연령대_40_매출_건수',\n",
    "       '연령대_50_매출_건수', '연령대_60_이상_매출_건수', '점포수']"
   ]
  },
  {
   "cell_type": "code",
   "execution_count": 167,
   "metadata": {},
   "outputs": [],
   "source": [
    "newcol = []\n",
    "for i in new_cols : \n",
    "    newcol.append(i.lower())"
   ]
  },
  {
   "cell_type": "code",
   "execution_count": 168,
   "metadata": {},
   "outputs": [
    {
     "data": {
      "text/plain": [
       "88"
      ]
     },
     "execution_count": 168,
     "metadata": {},
     "output_type": "execute_result"
    }
   ],
   "source": [
    "len(newcol)"
   ]
  },
  {
   "cell_type": "code",
   "execution_count": 169,
   "metadata": {},
   "outputs": [],
   "source": [
    "df_final20.columns = newcol\n",
    "df_final19.columns = newcol"
   ]
  },
  {
   "cell_type": "code",
   "execution_count": 171,
   "metadata": {},
   "outputs": [
    {
     "name": "stdout",
     "output_type": "stream",
     "text": [
      "(184689, 88)\n",
      "(385729, 88)\n"
     ]
    }
   ],
   "source": [
    "print(df_final20.shape)\n",
    "print(df_final19.shape)"
   ]
  },
  {
   "cell_type": "code",
   "execution_count": 172,
   "metadata": {},
   "outputs": [],
   "source": [
    "df_final20.to_csv('df_final2020.csv',encoding = 'euc-kr',index=False)\n",
    "df_final19.to_csv('df_final2019.csv',encoding = 'euc-kr',index=False)"
   ]
  },
  {
   "cell_type": "code",
   "execution_count": 175,
   "metadata": {
    "collapsed": true
   },
   "outputs": [
    {
     "data": {
      "text/html": [
       "<div>\n",
       "<style scoped>\n",
       "    .dataframe tbody tr th:only-of-type {\n",
       "        vertical-align: middle;\n",
       "    }\n",
       "\n",
       "    .dataframe tbody tr th {\n",
       "        vertical-align: top;\n",
       "    }\n",
       "\n",
       "    .dataframe thead th {\n",
       "        text-align: right;\n",
       "    }\n",
       "</style>\n",
       "<table border=\"1\" class=\"dataframe\">\n",
       "  <thead>\n",
       "    <tr style=\"text-align: right;\">\n",
       "      <th></th>\n",
       "      <th>번호</th>\n",
       "      <th>개방서비스명</th>\n",
       "      <th>개방서비스id</th>\n",
       "      <th>개방자치단체코드</th>\n",
       "      <th>관리번호</th>\n",
       "      <th>인허가일자</th>\n",
       "      <th>인허가취소일자</th>\n",
       "      <th>영업상태구분코드</th>\n",
       "      <th>영업상태명</th>\n",
       "      <th>상세영업상태코드</th>\n",
       "      <th>...</th>\n",
       "      <th>공장생산직종업원수</th>\n",
       "      <th>건물소유구분명</th>\n",
       "      <th>보증액</th>\n",
       "      <th>월세액</th>\n",
       "      <th>다중이용업소여부</th>\n",
       "      <th>시설총규모</th>\n",
       "      <th>전통업소지정번호</th>\n",
       "      <th>전통업소주된음식</th>\n",
       "      <th>홈페이지</th>\n",
       "      <th>Unnamed: 47</th>\n",
       "    </tr>\n",
       "  </thead>\n",
       "  <tbody>\n",
       "    <tr>\n",
       "      <th>0</th>\n",
       "      <td>1</td>\n",
       "      <td>제과점영업</td>\n",
       "      <td>07_22_18_P</td>\n",
       "      <td>3110000</td>\n",
       "      <td>3110000-121-2001-08054</td>\n",
       "      <td>20010713</td>\n",
       "      <td>NaN</td>\n",
       "      <td>1</td>\n",
       "      <td>영업/정상</td>\n",
       "      <td>1</td>\n",
       "      <td>...</td>\n",
       "      <td>NaN</td>\n",
       "      <td>NaN</td>\n",
       "      <td>NaN</td>\n",
       "      <td>NaN</td>\n",
       "      <td>N</td>\n",
       "      <td>68.25</td>\n",
       "      <td>NaN</td>\n",
       "      <td>NaN</td>\n",
       "      <td>NaN</td>\n",
       "      <td>NaN</td>\n",
       "    </tr>\n",
       "    <tr>\n",
       "      <th>1</th>\n",
       "      <td>2</td>\n",
       "      <td>제과점영업</td>\n",
       "      <td>07_22_18_P</td>\n",
       "      <td>3110000</td>\n",
       "      <td>3110000-121-2003-00020</td>\n",
       "      <td>20030507</td>\n",
       "      <td>NaN</td>\n",
       "      <td>1</td>\n",
       "      <td>영업/정상</td>\n",
       "      <td>1</td>\n",
       "      <td>...</td>\n",
       "      <td>NaN</td>\n",
       "      <td>NaN</td>\n",
       "      <td>NaN</td>\n",
       "      <td>NaN</td>\n",
       "      <td>N</td>\n",
       "      <td>72.36</td>\n",
       "      <td>NaN</td>\n",
       "      <td>NaN</td>\n",
       "      <td>NaN</td>\n",
       "      <td>NaN</td>\n",
       "    </tr>\n",
       "    <tr>\n",
       "      <th>2</th>\n",
       "      <td>3</td>\n",
       "      <td>제과점영업</td>\n",
       "      <td>07_22_18_P</td>\n",
       "      <td>3110000</td>\n",
       "      <td>3110000-121-2002-00035</td>\n",
       "      <td>20021011</td>\n",
       "      <td>NaN</td>\n",
       "      <td>1</td>\n",
       "      <td>영업/정상</td>\n",
       "      <td>1</td>\n",
       "      <td>...</td>\n",
       "      <td>NaN</td>\n",
       "      <td>NaN</td>\n",
       "      <td>NaN</td>\n",
       "      <td>NaN</td>\n",
       "      <td>N</td>\n",
       "      <td>39.60</td>\n",
       "      <td>NaN</td>\n",
       "      <td>NaN</td>\n",
       "      <td>NaN</td>\n",
       "      <td>NaN</td>\n",
       "    </tr>\n",
       "    <tr>\n",
       "      <th>3</th>\n",
       "      <td>4</td>\n",
       "      <td>제과점영업</td>\n",
       "      <td>07_22_18_P</td>\n",
       "      <td>3110000</td>\n",
       "      <td>3110000-121-2001-08125</td>\n",
       "      <td>20011015</td>\n",
       "      <td>NaN</td>\n",
       "      <td>1</td>\n",
       "      <td>영업/정상</td>\n",
       "      <td>1</td>\n",
       "      <td>...</td>\n",
       "      <td>NaN</td>\n",
       "      <td>NaN</td>\n",
       "      <td>NaN</td>\n",
       "      <td>NaN</td>\n",
       "      <td>N</td>\n",
       "      <td>23.10</td>\n",
       "      <td>NaN</td>\n",
       "      <td>NaN</td>\n",
       "      <td>NaN</td>\n",
       "      <td>NaN</td>\n",
       "    </tr>\n",
       "    <tr>\n",
       "      <th>4</th>\n",
       "      <td>5</td>\n",
       "      <td>제과점영업</td>\n",
       "      <td>07_22_18_P</td>\n",
       "      <td>3060000</td>\n",
       "      <td>3060000-121-2005-00012</td>\n",
       "      <td>20050406</td>\n",
       "      <td>NaN</td>\n",
       "      <td>1</td>\n",
       "      <td>영업/정상</td>\n",
       "      <td>1</td>\n",
       "      <td>...</td>\n",
       "      <td>NaN</td>\n",
       "      <td>NaN</td>\n",
       "      <td>NaN</td>\n",
       "      <td>NaN</td>\n",
       "      <td>N</td>\n",
       "      <td>36.89</td>\n",
       "      <td>NaN</td>\n",
       "      <td>NaN</td>\n",
       "      <td>NaN</td>\n",
       "      <td>NaN</td>\n",
       "    </tr>\n",
       "  </tbody>\n",
       "</table>\n",
       "<p>5 rows × 48 columns</p>\n",
       "</div>"
      ],
      "text/plain": [
       "   번호 개방서비스명     개방서비스id  개방자치단체코드                    관리번호     인허가일자  인허가취소일자  \\\n",
       "0   1  제과점영업  07_22_18_P   3110000  3110000-121-2001-08054  20010713      NaN   \n",
       "1   2  제과점영업  07_22_18_P   3110000  3110000-121-2003-00020  20030507      NaN   \n",
       "2   3  제과점영업  07_22_18_P   3110000  3110000-121-2002-00035  20021011      NaN   \n",
       "3   4  제과점영업  07_22_18_P   3110000  3110000-121-2001-08125  20011015      NaN   \n",
       "4   5  제과점영업  07_22_18_P   3060000  3060000-121-2005-00012  20050406      NaN   \n",
       "\n",
       "   영업상태구분코드  영업상태명  상세영업상태코드  ... 공장생산직종업원수  건물소유구분명  보증액  월세액  다중이용업소여부  \\\n",
       "0         1  영업/정상         1  ...       NaN      NaN  NaN  NaN         N   \n",
       "1         1  영업/정상         1  ...       NaN      NaN  NaN  NaN         N   \n",
       "2         1  영업/정상         1  ...       NaN      NaN  NaN  NaN         N   \n",
       "3         1  영업/정상         1  ...       NaN      NaN  NaN  NaN         N   \n",
       "4         1  영업/정상         1  ...       NaN      NaN  NaN  NaN         N   \n",
       "\n",
       "   시설총규모 전통업소지정번호  전통업소주된음식 홈페이지 Unnamed: 47  \n",
       "0  68.25      NaN       NaN  NaN         NaN  \n",
       "1  72.36      NaN       NaN  NaN         NaN  \n",
       "2  39.60      NaN       NaN  NaN         NaN  \n",
       "3  23.10      NaN       NaN  NaN         NaN  \n",
       "4  36.89      NaN       NaN  NaN         NaN  \n",
       "\n",
       "[5 rows x 48 columns]"
      ]
     },
     "execution_count": 175,
     "metadata": {},
     "output_type": "execute_result"
    }
   ],
   "source": [
    "data = pd.read_csv('./추가자료/추가자료/snack.csv',encoding='cp949')\n",
    "data.head()"
   ]
  },
  {
   "cell_type": "code",
   "execution_count": 185,
   "metadata": {},
   "outputs": [
    {
     "data": {
      "text/plain": [
       "'은평구'"
      ]
     },
     "execution_count": 185,
     "metadata": {},
     "output_type": "execute_result"
    }
   ],
   "source": [
    "a = '서울특별시 은평구 대조동 179-8번지 1,2층'\n",
    "a.split()[1]"
   ]
  },
  {
   "cell_type": "code",
   "execution_count": 186,
   "metadata": {},
   "outputs": [
    {
     "ename": "IndexError",
     "evalue": "list index out of range",
     "output_type": "error",
     "traceback": [
      "\u001b[1;31m---------------------------------------------------------------------------\u001b[0m",
      "\u001b[1;31mIndexError\u001b[0m                                Traceback (most recent call last)",
      "\u001b[1;32m<ipython-input-186-950c32026849>\u001b[0m in \u001b[0;36m<module>\u001b[1;34m\u001b[0m\n\u001b[1;32m----> 1\u001b[1;33m \u001b[0mdata\u001b[0m\u001b[1;33m[\u001b[0m\u001b[1;34m'군'\u001b[0m\u001b[1;33m]\u001b[0m\u001b[1;33m=\u001b[0m\u001b[0mdata\u001b[0m\u001b[1;33m[\u001b[0m\u001b[1;34m'소재지전체주소'\u001b[0m\u001b[1;33m]\u001b[0m\u001b[1;33m.\u001b[0m\u001b[0mapply\u001b[0m\u001b[1;33m(\u001b[0m\u001b[1;32mlambda\u001b[0m \u001b[0mx\u001b[0m\u001b[1;33m:\u001b[0m \u001b[0mstr\u001b[0m\u001b[1;33m(\u001b[0m\u001b[0mx\u001b[0m\u001b[1;33m)\u001b[0m\u001b[1;33m.\u001b[0m\u001b[0msplit\u001b[0m\u001b[1;33m(\u001b[0m\u001b[1;33m)\u001b[0m\u001b[1;33m[\u001b[0m\u001b[1;36m1\u001b[0m\u001b[1;33m]\u001b[0m\u001b[1;33m)\u001b[0m\u001b[1;33m\u001b[0m\u001b[1;33m\u001b[0m\u001b[0m\n\u001b[0m",
      "\u001b[1;32mC:\\ProgramData\\Anaconda3\\lib\\site-packages\\pandas\\core\\series.py\u001b[0m in \u001b[0;36mapply\u001b[1;34m(self, func, convert_dtype, args, **kwds)\u001b[0m\n\u001b[0;32m   3589\u001b[0m             \u001b[1;32melse\u001b[0m\u001b[1;33m:\u001b[0m\u001b[1;33m\u001b[0m\u001b[1;33m\u001b[0m\u001b[0m\n\u001b[0;32m   3590\u001b[0m                 \u001b[0mvalues\u001b[0m \u001b[1;33m=\u001b[0m \u001b[0mself\u001b[0m\u001b[1;33m.\u001b[0m\u001b[0mastype\u001b[0m\u001b[1;33m(\u001b[0m\u001b[0mobject\u001b[0m\u001b[1;33m)\u001b[0m\u001b[1;33m.\u001b[0m\u001b[0mvalues\u001b[0m\u001b[1;33m\u001b[0m\u001b[1;33m\u001b[0m\u001b[0m\n\u001b[1;32m-> 3591\u001b[1;33m                 \u001b[0mmapped\u001b[0m \u001b[1;33m=\u001b[0m \u001b[0mlib\u001b[0m\u001b[1;33m.\u001b[0m\u001b[0mmap_infer\u001b[0m\u001b[1;33m(\u001b[0m\u001b[0mvalues\u001b[0m\u001b[1;33m,\u001b[0m \u001b[0mf\u001b[0m\u001b[1;33m,\u001b[0m \u001b[0mconvert\u001b[0m\u001b[1;33m=\u001b[0m\u001b[0mconvert_dtype\u001b[0m\u001b[1;33m)\u001b[0m\u001b[1;33m\u001b[0m\u001b[1;33m\u001b[0m\u001b[0m\n\u001b[0m\u001b[0;32m   3592\u001b[0m \u001b[1;33m\u001b[0m\u001b[0m\n\u001b[0;32m   3593\u001b[0m         \u001b[1;32mif\u001b[0m \u001b[0mlen\u001b[0m\u001b[1;33m(\u001b[0m\u001b[0mmapped\u001b[0m\u001b[1;33m)\u001b[0m \u001b[1;32mand\u001b[0m \u001b[0misinstance\u001b[0m\u001b[1;33m(\u001b[0m\u001b[0mmapped\u001b[0m\u001b[1;33m[\u001b[0m\u001b[1;36m0\u001b[0m\u001b[1;33m]\u001b[0m\u001b[1;33m,\u001b[0m \u001b[0mSeries\u001b[0m\u001b[1;33m)\u001b[0m\u001b[1;33m:\u001b[0m\u001b[1;33m\u001b[0m\u001b[1;33m\u001b[0m\u001b[0m\n",
      "\u001b[1;32mpandas/_libs/lib.pyx\u001b[0m in \u001b[0;36mpandas._libs.lib.map_infer\u001b[1;34m()\u001b[0m\n",
      "\u001b[1;32m<ipython-input-186-950c32026849>\u001b[0m in \u001b[0;36m<lambda>\u001b[1;34m(x)\u001b[0m\n\u001b[1;32m----> 1\u001b[1;33m \u001b[0mdata\u001b[0m\u001b[1;33m[\u001b[0m\u001b[1;34m'군'\u001b[0m\u001b[1;33m]\u001b[0m\u001b[1;33m=\u001b[0m\u001b[0mdata\u001b[0m\u001b[1;33m[\u001b[0m\u001b[1;34m'소재지전체주소'\u001b[0m\u001b[1;33m]\u001b[0m\u001b[1;33m.\u001b[0m\u001b[0mapply\u001b[0m\u001b[1;33m(\u001b[0m\u001b[1;32mlambda\u001b[0m \u001b[0mx\u001b[0m\u001b[1;33m:\u001b[0m \u001b[0mstr\u001b[0m\u001b[1;33m(\u001b[0m\u001b[0mx\u001b[0m\u001b[1;33m)\u001b[0m\u001b[1;33m.\u001b[0m\u001b[0msplit\u001b[0m\u001b[1;33m(\u001b[0m\u001b[1;33m)\u001b[0m\u001b[1;33m[\u001b[0m\u001b[1;36m1\u001b[0m\u001b[1;33m]\u001b[0m\u001b[1;33m)\u001b[0m\u001b[1;33m\u001b[0m\u001b[1;33m\u001b[0m\u001b[0m\n\u001b[0m",
      "\u001b[1;31mIndexError\u001b[0m: list index out of range"
     ]
    }
   ],
   "source": [
    "data['군']=data['소재지전체주소'].apply(lambda x: str(x).split()[1])"
   ]
  },
  {
   "cell_type": "code",
   "execution_count": 181,
   "metadata": {},
   "outputs": [
    {
     "data": {
      "text/plain": [
       "0        서울특별시\n",
       "1        서울특별시\n",
       "2        서울특별시\n",
       "3        서울특별시\n",
       "4        서울특별시\n",
       "5        서울특별시\n",
       "6        서울특별시\n",
       "7        서울특별시\n",
       "8        서울특별시\n",
       "9        서울특별시\n",
       "10       서울특별시\n",
       "11       서울특별시\n",
       "12       서울특별시\n",
       "13       서울특별시\n",
       "14       서울특별시\n",
       "15       서울특별시\n",
       "16       서울특별시\n",
       "17       서울특별시\n",
       "18       서울특별시\n",
       "19       서울특별시\n",
       "20       서울특별시\n",
       "21       서울특별시\n",
       "22       서울특별시\n",
       "23       서울특별시\n",
       "24       서울특별시\n",
       "25       서울특별시\n",
       "26       서울특별시\n",
       "27       서울특별시\n",
       "28       서울특별시\n",
       "29       서울특별시\n",
       "         ...  \n",
       "11465    서울특별시\n",
       "11466    서울특별시\n",
       "11467    서울특별시\n",
       "11468    서울특별시\n",
       "11469    서울특별시\n",
       "11470    서울특별시\n",
       "11471    서울특별시\n",
       "11472    서울특별시\n",
       "11473    서울특별시\n",
       "11474    서울특별시\n",
       "11475    서울특별시\n",
       "11476    서울특별시\n",
       "11477    서울특별시\n",
       "11478    서울특별시\n",
       "11479    서울특별시\n",
       "11480    서울특별시\n",
       "11481    서울특별시\n",
       "11482    서울특별시\n",
       "11483    서울특별시\n",
       "11484    서울특별시\n",
       "11485    서울특별시\n",
       "11486    서울특별시\n",
       "11487    서울특별시\n",
       "11488    서울특별시\n",
       "11489    서울특별시\n",
       "11490    서울특별시\n",
       "11491    서울특별시\n",
       "11492    서울특별시\n",
       "11493    서울특별시\n",
       "11494    서울특별시\n",
       "Name: 시, Length: 11495, dtype: object"
      ]
     },
     "execution_count": 181,
     "metadata": {},
     "output_type": "execute_result"
    }
   ],
   "source": [
    "data['시']"
   ]
  }
 ],
 "metadata": {
  "kernelspec": {
   "display_name": "Python 3",
   "language": "python",
   "name": "python3"
  },
  "language_info": {
   "codemirror_mode": {
    "name": "ipython",
    "version": 3
   },
   "file_extension": ".py",
   "mimetype": "text/x-python",
   "name": "python",
   "nbconvert_exporter": "python",
   "pygments_lexer": "ipython3",
   "version": "3.7.3"
  }
 },
 "nbformat": 4,
 "nbformat_minor": 2
}
